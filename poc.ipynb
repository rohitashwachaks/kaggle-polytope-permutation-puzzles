{
 "cells": [
  {
   "cell_type": "code",
   "execution_count": 5,
   "id": "initial_id",
   "metadata": {
    "collapsed": true,
    "ExecuteTime": {
     "end_time": "2023-12-21T06:39:59.694977Z",
     "start_time": "2023-12-21T06:39:59.675178Z"
    }
   },
   "outputs": [],
   "source": [
    "from sympy.combinatorics import Permutation\n",
    "from sympy import init_printing\n",
    "init_printing(perm_cyclic=False, pretty_print=False)"
   ]
  },
  {
   "cell_type": "code",
   "execution_count": 6,
   "id": "8269f0c488490a3a",
   "metadata": {
    "collapsed": false,
    "ExecuteTime": {
     "end_time": "2023-12-21T06:40:05.406905Z",
     "start_time": "2023-12-21T06:40:05.397445Z"
    }
   },
   "outputs": [
    {
     "data": {
      "text/plain": "Permutation(1, 2)"
     },
     "execution_count": 6,
     "metadata": {},
     "output_type": "execute_result"
    }
   ],
   "source": [
    "p = Permutation([0, 2, 1]); p"
   ]
  },
  {
   "cell_type": "code",
   "execution_count": 3,
   "id": "3481d3893d223d0b",
   "metadata": {
    "collapsed": false,
    "ExecuteTime": {
     "end_time": "2023-12-21T03:58:01.097818Z",
     "start_time": "2023-12-21T03:58:01.090238Z"
    }
   },
   "outputs": [],
   "source": [
    "input_arr = [0,1,2]"
   ]
  },
  {
   "cell_type": "code",
   "execution_count": 4,
   "id": "7c000250672d2bcf",
   "metadata": {
    "collapsed": false,
    "ExecuteTime": {
     "end_time": "2023-12-21T03:58:03.576616Z",
     "start_time": "2023-12-21T03:58:03.559348Z"
    }
   },
   "outputs": [],
   "source": [
    "def f(arr, p):\n",
    "    return [x^p for x in arr]"
   ]
  },
  {
   "cell_type": "code",
   "execution_count": 27,
   "id": "3f9c5ed3f9054177",
   "metadata": {
    "collapsed": false
   },
   "outputs": [
    {
     "data": {
      "text/latex": [
       "$\\displaystyle \\left[ 0, \\  2, \\  1\\right]$"
      ],
      "text/plain": [
       "[0, 2, 1]"
      ]
     },
     "execution_count": 27,
     "metadata": {},
     "output_type": "execute_result"
    }
   ],
   "source": [
    "f(input_arr, p)"
   ]
  },
  {
   "cell_type": "code",
   "execution_count": 28,
   "id": "909fed235f1ae196",
   "metadata": {
    "collapsed": false
   },
   "outputs": [
    {
     "data": {
      "text/latex": [
       "$\\displaystyle \\begin{pmatrix} 0 & 1 & 2 \\\\ 2 & 1 & 0 \\end{pmatrix}$"
      ],
      "text/plain": [
       "Permutation(0, 2)"
      ]
     },
     "execution_count": 28,
     "metadata": {},
     "output_type": "execute_result"
    }
   ],
   "source": [
    "q = Permutation([2, 1, 0]); q"
   ]
  },
  {
   "cell_type": "code",
   "execution_count": 29,
   "metadata": {},
   "outputs": [
    {
     "data": {
      "text/latex": [
       "$\\displaystyle \\left[ 2, \\  1, \\  0\\right]$"
      ],
      "text/plain": [
       "[2, 1, 0]"
      ]
     },
     "execution_count": 29,
     "metadata": {},
     "output_type": "execute_result"
    }
   ],
   "source": [
    "f(input_arr, q)"
   ],
   "id": "3b7100acaa2e9cd"
  },
  {
   "cell_type": "code",
   "execution_count": 34,
   "metadata": {},
   "outputs": [
    {
     "data": {
      "text/latex": [
       "$\\displaystyle \\left[ 2, \\  0, \\  1\\right]$"
      ],
      "text/plain": [
       "[2, 0, 1]"
      ]
     },
     "execution_count": 34,
     "metadata": {},
     "output_type": "execute_result"
    }
   ],
   "source": [
    "f(input_arr, p*q) \n",
    "# Output of this transformation is [1, 2, 0].\n",
    "# To get [1, 2, 0] from [0, 1, 2], you need the transformation matrix = [2, 0, 1]\n",
    "# [0, 1, 2]^[2, 0, 1] = [1, 2, 0]"
   ],
   "id": "7fd4db9dddf9a7c4"
  },
  {
   "cell_type": "code",
   "execution_count": null,
   "metadata": {},
   "outputs": [],
   "source": [],
   "id": "aa2848788290fe4e"
  }
 ],
 "metadata": {
  "kernelspec": {
   "display_name": "Python 3 (ipykernel)",
   "language": "python",
   "name": "python3"
  },
  "language_info": {
   "codemirror_mode": {
    "name": "ipython",
    "version": 2
   },
   "file_extension": ".py",
   "mimetype": "text/x-python",
   "name": "python",
   "nbconvert_exporter": "python",
   "pygments_lexer": "ipython2",
   "version": "2.7.6"
  }
 },
 "nbformat": 4,
 "nbformat_minor": 5
}
