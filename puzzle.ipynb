{
 "cells": [
  {
   "cell_type": "markdown",
   "metadata": {},
   "source": [
    "# Reading puzzle_info.csv"
   ]
  },
  {
   "cell_type": "code",
   "execution_count": 1,
   "outputs": [],
   "source": [
    "from sympy.combinatorics import Permutation\n",
    "import pandas as pd\n",
    "import ast\n",
    "import numpy as np\n",
    "#\n",
    "PERMUTATION_PROCESSING: bool = True  # True uses permutation library | False uses List"
   ],
   "metadata": {
    "collapsed": false,
    "ExecuteTime": {
     "end_time": "2023-12-22T20:29:23.594038Z",
     "start_time": "2023-12-22T20:29:22.920471Z"
    }
   }
  },
  {
   "cell_type": "code",
   "execution_count": 2,
   "metadata": {
    "ExecuteTime": {
     "end_time": "2023-12-22T20:29:26.303993Z",
     "start_time": "2023-12-22T20:29:23.920859Z"
    }
   },
   "outputs": [
    {
     "data": {
      "text/plain": "                                                   allowed_moves puzzle_shape  \\\npuzzle_type                                                                     \ncube_2/2/2     {'f0': [0, 1, 19, 17, 6, 4, 7, 5, 2, 9, 3, 11,...         cube   \ncube_3/3/3     {'f0': [0, 1, 2, 3, 4, 5, 44, 41, 38, 15, 12, ...         cube   \ncube_4/4/4     {'f0': [0, 1, 2, 3, 4, 5, 6, 7, 8, 9, 10, 11, ...         cube   \ncube_5/5/5     {'f0': [0, 1, 2, 3, 4, 5, 6, 7, 8, 9, 10, 11, ...         cube   \ncube_6/6/6     {'f0': [0, 1, 2, 3, 4, 5, 6, 7, 8, 9, 10, 11, ...         cube   \ncube_7/7/7     {'f0': [0, 1, 2, 3, 4, 5, 6, 7, 8, 9, 10, 11, ...         cube   \ncube_8/8/8     {'f0': [0, 1, 2, 3, 4, 5, 6, 7, 8, 9, 10, 11, ...         cube   \ncube_9/9/9     {'f0': [0, 1, 2, 3, 4, 5, 6, 7, 8, 9, 10, 11, ...         cube   \ncube_10/10/10  {'f0': [0, 1, 2, 3, 4, 5, 6, 7, 8, 9, 10, 11, ...         cube   \ncube_19/19/19  {'f0': [0, 1, 2, 3, 4, 5, 6, 7, 8, 9, 10, 11, ...         cube   \n\n              puzzle_dimension  \npuzzle_type                     \ncube_2/2/2           (2, 2, 2)  \ncube_3/3/3           (3, 3, 3)  \ncube_4/4/4           (4, 4, 4)  \ncube_5/5/5           (5, 5, 5)  \ncube_6/6/6           (6, 6, 6)  \ncube_7/7/7           (7, 7, 7)  \ncube_8/8/8           (8, 8, 8)  \ncube_9/9/9           (9, 9, 9)  \ncube_10/10/10     (10, 10, 10)  \ncube_19/19/19     (19, 19, 19)  ",
      "text/html": "<div>\n<style scoped>\n    .dataframe tbody tr th:only-of-type {\n        vertical-align: middle;\n    }\n\n    .dataframe tbody tr th {\n        vertical-align: top;\n    }\n\n    .dataframe thead th {\n        text-align: right;\n    }\n</style>\n<table border=\"1\" class=\"dataframe\">\n  <thead>\n    <tr style=\"text-align: right;\">\n      <th></th>\n      <th>allowed_moves</th>\n      <th>puzzle_shape</th>\n      <th>puzzle_dimension</th>\n    </tr>\n    <tr>\n      <th>puzzle_type</th>\n      <th></th>\n      <th></th>\n      <th></th>\n    </tr>\n  </thead>\n  <tbody>\n    <tr>\n      <th>cube_2/2/2</th>\n      <td>{'f0': [0, 1, 19, 17, 6, 4, 7, 5, 2, 9, 3, 11,...</td>\n      <td>cube</td>\n      <td>(2, 2, 2)</td>\n    </tr>\n    <tr>\n      <th>cube_3/3/3</th>\n      <td>{'f0': [0, 1, 2, 3, 4, 5, 44, 41, 38, 15, 12, ...</td>\n      <td>cube</td>\n      <td>(3, 3, 3)</td>\n    </tr>\n    <tr>\n      <th>cube_4/4/4</th>\n      <td>{'f0': [0, 1, 2, 3, 4, 5, 6, 7, 8, 9, 10, 11, ...</td>\n      <td>cube</td>\n      <td>(4, 4, 4)</td>\n    </tr>\n    <tr>\n      <th>cube_5/5/5</th>\n      <td>{'f0': [0, 1, 2, 3, 4, 5, 6, 7, 8, 9, 10, 11, ...</td>\n      <td>cube</td>\n      <td>(5, 5, 5)</td>\n    </tr>\n    <tr>\n      <th>cube_6/6/6</th>\n      <td>{'f0': [0, 1, 2, 3, 4, 5, 6, 7, 8, 9, 10, 11, ...</td>\n      <td>cube</td>\n      <td>(6, 6, 6)</td>\n    </tr>\n    <tr>\n      <th>cube_7/7/7</th>\n      <td>{'f0': [0, 1, 2, 3, 4, 5, 6, 7, 8, 9, 10, 11, ...</td>\n      <td>cube</td>\n      <td>(7, 7, 7)</td>\n    </tr>\n    <tr>\n      <th>cube_8/8/8</th>\n      <td>{'f0': [0, 1, 2, 3, 4, 5, 6, 7, 8, 9, 10, 11, ...</td>\n      <td>cube</td>\n      <td>(8, 8, 8)</td>\n    </tr>\n    <tr>\n      <th>cube_9/9/9</th>\n      <td>{'f0': [0, 1, 2, 3, 4, 5, 6, 7, 8, 9, 10, 11, ...</td>\n      <td>cube</td>\n      <td>(9, 9, 9)</td>\n    </tr>\n    <tr>\n      <th>cube_10/10/10</th>\n      <td>{'f0': [0, 1, 2, 3, 4, 5, 6, 7, 8, 9, 10, 11, ...</td>\n      <td>cube</td>\n      <td>(10, 10, 10)</td>\n    </tr>\n    <tr>\n      <th>cube_19/19/19</th>\n      <td>{'f0': [0, 1, 2, 3, 4, 5, 6, 7, 8, 9, 10, 11, ...</td>\n      <td>cube</td>\n      <td>(19, 19, 19)</td>\n    </tr>\n  </tbody>\n</table>\n</div>"
     },
     "execution_count": 2,
     "metadata": {},
     "output_type": "execute_result"
    }
   ],
   "source": [
    "puzzle_info = pd.read_csv('data/puzzle_info.csv')\n",
    "puzzle_info['puzzle_shape'], puzzle_info['puzzle_dimension'] = list(\n",
    "    map(\n",
    "        list, zip(*puzzle_info.puzzle_type.apply(lambda x: tuple(x.split('_'))))\n",
    "    )\n",
    ")\n",
    "puzzle_info.puzzle_dimension = puzzle_info.puzzle_dimension.apply(lambda x: tuple(map(int, x.split('/'))))\n",
    "puzzle_info.allowed_moves = puzzle_info.allowed_moves.apply(lambda x: ast.literal_eval(x))\n",
    "puzzle_info.set_index('puzzle_type', inplace=True)\n",
    "puzzle_info.head(10)"
   ]
  },
  {
   "cell_type": "markdown",
   "source": [
    "## Reading Puzzles.csv"
   ],
   "metadata": {
    "collapsed": false
   }
  },
  {
   "cell_type": "code",
   "execution_count": 27,
   "metadata": {
    "ExecuteTime": {
     "end_time": "2023-12-23T16:59:16.988220Z",
     "start_time": "2023-12-23T16:59:16.944917Z"
    }
   },
   "outputs": [
    {
     "data": {
      "text/plain": "    puzzle_type                                     solution_state  \\\nid                                                                   \n0    cube_2/2/2  [A, A, A, A, B, B, B, B, C, C, C, C, D, D, D, ...   \n1    cube_2/2/2  [A, A, A, A, B, B, B, B, C, C, C, C, D, D, D, ...   \n2    cube_2/2/2  [A, A, A, A, B, B, B, B, C, C, C, C, D, D, D, ...   \n3    cube_2/2/2  [A, A, A, A, B, B, B, B, C, C, C, C, D, D, D, ...   \n4    cube_2/2/2  [A, A, A, A, B, B, B, B, C, C, C, C, D, D, D, ...   \n..          ...                                                ...   \n393  globe_33/3  [A, A, A, A, A, A, C, C, C, C, C, C, E, E, E, ...   \n394  globe_33/3  [A, A, A, A, A, A, C, C, C, C, C, C, E, E, E, ...   \n395  globe_33/3  [N0, N1, N2, N3, N4, N5, N6, N7, N8, N9, N10, ...   \n396  globe_8/25  [A, A, A, A, A, D, D, D, D, D, G, G, G, G, G, ...   \n397  globe_8/25  [A, A, A, A, A, D, D, D, D, D, G, G, G, G, G, ...   \n\n                                         initial_state  num_wildcards  \nid                                                                     \n0    [D, E, D, A, E, B, A, B, C, A, C, A, D, C, D, ...              0  \n1    [D, E, C, B, B, E, F, A, F, D, B, F, F, E, B, ...              0  \n2    [E, F, C, C, F, A, D, D, B, B, A, F, E, B, C, ...              0  \n3    [A, C, E, C, F, D, E, D, A, A, F, A, B, D, B, ...              0  \n4    [E, D, E, D, A, E, F, B, A, C, F, D, F, D, C, ...              0  \n..                                                 ...            ...  \n393  [D, D, L, A, P, E, R, U, U, C, S, R, J, B, E, ...              0  \n394  [V, L, N, G, B, V, R, E, H, A, K, S, I, N, G, ...              0  \n395  [N12, N219, N227, N198, N4, N208, N214, N245, ...              0  \n396  [V, P, F, L, P, X, O, A, J, b, V, Y, D, Y, C, ...              0  \n397  [V, O, a, I, a, F, C, D, C, d, I, O, U, F, F, ...              0  \n\n[398 rows x 4 columns]",
      "text/html": "<div>\n<style scoped>\n    .dataframe tbody tr th:only-of-type {\n        vertical-align: middle;\n    }\n\n    .dataframe tbody tr th {\n        vertical-align: top;\n    }\n\n    .dataframe thead th {\n        text-align: right;\n    }\n</style>\n<table border=\"1\" class=\"dataframe\">\n  <thead>\n    <tr style=\"text-align: right;\">\n      <th></th>\n      <th>puzzle_type</th>\n      <th>solution_state</th>\n      <th>initial_state</th>\n      <th>num_wildcards</th>\n    </tr>\n    <tr>\n      <th>id</th>\n      <th></th>\n      <th></th>\n      <th></th>\n      <th></th>\n    </tr>\n  </thead>\n  <tbody>\n    <tr>\n      <th>0</th>\n      <td>cube_2/2/2</td>\n      <td>[A, A, A, A, B, B, B, B, C, C, C, C, D, D, D, ...</td>\n      <td>[D, E, D, A, E, B, A, B, C, A, C, A, D, C, D, ...</td>\n      <td>0</td>\n    </tr>\n    <tr>\n      <th>1</th>\n      <td>cube_2/2/2</td>\n      <td>[A, A, A, A, B, B, B, B, C, C, C, C, D, D, D, ...</td>\n      <td>[D, E, C, B, B, E, F, A, F, D, B, F, F, E, B, ...</td>\n      <td>0</td>\n    </tr>\n    <tr>\n      <th>2</th>\n      <td>cube_2/2/2</td>\n      <td>[A, A, A, A, B, B, B, B, C, C, C, C, D, D, D, ...</td>\n      <td>[E, F, C, C, F, A, D, D, B, B, A, F, E, B, C, ...</td>\n      <td>0</td>\n    </tr>\n    <tr>\n      <th>3</th>\n      <td>cube_2/2/2</td>\n      <td>[A, A, A, A, B, B, B, B, C, C, C, C, D, D, D, ...</td>\n      <td>[A, C, E, C, F, D, E, D, A, A, F, A, B, D, B, ...</td>\n      <td>0</td>\n    </tr>\n    <tr>\n      <th>4</th>\n      <td>cube_2/2/2</td>\n      <td>[A, A, A, A, B, B, B, B, C, C, C, C, D, D, D, ...</td>\n      <td>[E, D, E, D, A, E, F, B, A, C, F, D, F, D, C, ...</td>\n      <td>0</td>\n    </tr>\n    <tr>\n      <th>...</th>\n      <td>...</td>\n      <td>...</td>\n      <td>...</td>\n      <td>...</td>\n    </tr>\n    <tr>\n      <th>393</th>\n      <td>globe_33/3</td>\n      <td>[A, A, A, A, A, A, C, C, C, C, C, C, E, E, E, ...</td>\n      <td>[D, D, L, A, P, E, R, U, U, C, S, R, J, B, E, ...</td>\n      <td>0</td>\n    </tr>\n    <tr>\n      <th>394</th>\n      <td>globe_33/3</td>\n      <td>[A, A, A, A, A, A, C, C, C, C, C, C, E, E, E, ...</td>\n      <td>[V, L, N, G, B, V, R, E, H, A, K, S, I, N, G, ...</td>\n      <td>0</td>\n    </tr>\n    <tr>\n      <th>395</th>\n      <td>globe_33/3</td>\n      <td>[N0, N1, N2, N3, N4, N5, N6, N7, N8, N9, N10, ...</td>\n      <td>[N12, N219, N227, N198, N4, N208, N214, N245, ...</td>\n      <td>0</td>\n    </tr>\n    <tr>\n      <th>396</th>\n      <td>globe_8/25</td>\n      <td>[A, A, A, A, A, D, D, D, D, D, G, G, G, G, G, ...</td>\n      <td>[V, P, F, L, P, X, O, A, J, b, V, Y, D, Y, C, ...</td>\n      <td>0</td>\n    </tr>\n    <tr>\n      <th>397</th>\n      <td>globe_8/25</td>\n      <td>[A, A, A, A, A, D, D, D, D, D, G, G, G, G, G, ...</td>\n      <td>[V, O, a, I, a, F, C, D, C, d, I, O, U, F, F, ...</td>\n      <td>0</td>\n    </tr>\n  </tbody>\n</table>\n<p>398 rows × 4 columns</p>\n</div>"
     },
     "execution_count": 27,
     "metadata": {},
     "output_type": "execute_result"
    }
   ],
   "source": [
    "puzzle_df = pd.read_csv('data/puzzles.csv', index_col=0)\n",
    "puzzle_df['initial_state'] = puzzle_df['initial_state'].apply(lambda x: np.array(x.split(';')))\n",
    "puzzle_df['solution_state'] = puzzle_df['solution_state'].apply(lambda x: np.array(x.split(';')))\n",
    "puzzle_df"
   ]
  },
  {
   "cell_type": "markdown",
   "source": [
    "## Cube 2/2/2"
   ],
   "metadata": {
    "collapsed": false
   }
  },
  {
   "cell_type": "code",
   "execution_count": 28,
   "outputs": [],
   "source": [
    "info = puzzle_info.iloc[0]\n",
    "puzzle= puzzle_df.iloc[0]"
   ],
   "metadata": {
    "collapsed": false,
    "ExecuteTime": {
     "end_time": "2023-12-23T16:59:22.232530Z",
     "start_time": "2023-12-23T16:59:22.226967Z"
    }
   }
  },
  {
   "cell_type": "code",
   "execution_count": 29,
   "outputs": [
    {
     "data": {
      "text/plain": "allowed_moves       {'f0': [0, 1, 19, 17, 6, 4, 7, 5, 2, 9, 3, 11,...\npuzzle_shape                                                     cube\npuzzle_dimension                                            (2, 2, 2)\nName: cube_2/2/2, dtype: object"
     },
     "execution_count": 29,
     "metadata": {},
     "output_type": "execute_result"
    }
   ],
   "source": [
    "info"
   ],
   "metadata": {
    "collapsed": false,
    "ExecuteTime": {
     "end_time": "2023-12-23T16:59:22.453104Z",
     "start_time": "2023-12-23T16:59:22.446364Z"
    }
   }
  },
  {
   "cell_type": "markdown",
   "source": [
    "## Allowed Moves"
   ],
   "metadata": {
    "collapsed": false
   }
  },
  {
   "cell_type": "code",
   "execution_count": 30,
   "outputs": [],
   "source": [
    "def get_t(sequence):\n",
    "    forward_t = None\n",
    "    inverse_t = None\n",
    "    if PERMUTATION_PROCESSING:\n",
    "        # region Option 1 : Using Permutation() - Guide from Kaggle doc\n",
    "        forward_t = Permutation(sequence)\n",
    "        inverse_t = forward_t ** -1\n",
    "        # endregion\n",
    "    else: \n",
    "        # region Option 2 : Probably a little wrong\n",
    "        _ = list(zip(range(len(sequence)), sequence))\n",
    "        forward_t = sorted(_, key= lambda x:x[1])\n",
    "        forward_t = list(map(list, zip(*forward_t)))[0]\n",
    "\n",
    "        inverse_t = sorted(_, key= lambda x:x[0])\n",
    "        inverse_t = list(map(list, zip(*inverse_t)))[1]\n",
    "        # endregion\n",
    "    \n",
    "    assert forward_t is not None and inverse_t is not None\n",
    "    return forward_t, inverse_t\n"
   ],
   "metadata": {
    "collapsed": false,
    "ExecuteTime": {
     "end_time": "2023-12-23T16:59:27.341149Z",
     "start_time": "2023-12-23T16:59:27.331257Z"
    }
   }
  },
  {
   "cell_type": "code",
   "execution_count": 31,
   "outputs": [
    {
     "data": {
      "text/plain": "dict_keys(['f0', '-f0', 'f1', '-f1', 'r0', '-r0', 'r1', '-r1', 'd0', '-d0', 'd1', '-d1'])"
     },
     "execution_count": 31,
     "metadata": {},
     "output_type": "execute_result"
    }
   ],
   "source": [
    "allowed_moves = {}\n",
    "\n",
    "for key, sequence in info.allowed_moves.items():\n",
    "    allowed_moves[key], allowed_moves['-'+key] = get_t(sequence)\n",
    "    \n",
    "allowed_moves.keys()"
   ],
   "metadata": {
    "collapsed": false,
    "ExecuteTime": {
     "end_time": "2023-12-23T16:59:30.409847Z",
     "start_time": "2023-12-23T16:59:30.403419Z"
    }
   }
  },
  {
   "cell_type": "code",
   "execution_count": 36,
   "outputs": [],
   "source": [
    "def f(arr, p):\n",
    "    out_list = []\n",
    "    if PERMUTATION_PROCESSING:\n",
    "        # region Option 1 : Using Permutation() - Guide from Kaggle doc\n",
    "        out_list = p(arr) \n",
    "        # endregion\n",
    "    else: \n",
    "        # region Option 2 : Probably a little wrong\n",
    "        for pos in p:\n",
    "            out_list.append(arr[pos])\n",
    "        # endregion\n",
    "    return np.array(out_list)\n",
    "\n",
    "\n",
    "def viz(arr):\n",
    "    np_inp_seq = np.array(arr).reshape((6,2,2))\n",
    "    print(np_inp_seq)\n",
    "    \n",
    "    \n",
    "def hamming_distance(arr1, arr2):\n",
    "    return np.sum(arr1 != arr2)"
   ],
   "metadata": {
    "collapsed": false,
    "ExecuteTime": {
     "end_time": "2023-12-23T17:00:40.936443Z",
     "start_time": "2023-12-23T17:00:40.928356Z"
    }
   }
  },
  {
   "cell_type": "code",
   "execution_count": 37,
   "outputs": [
    {
     "name": "stdout",
     "output_type": "stream",
     "text": [
      "['A' 'A' 'A' 'A' 'B' 'B' 'B' 'B' 'C' 'C' 'C' 'C' 'D' 'D' 'D' 'D' 'E' 'E'\n",
      " 'E' 'E' 'F' 'F' 'F' 'F']\n",
      "['A' 'A' 'E' 'E' 'B' 'B' 'B' 'B' 'A' 'C' 'A' 'C' 'D' 'D' 'D' 'D' 'E' 'F'\n",
      " 'E' 'F' 'C' 'C' 'F' 'F']\n",
      "\n",
      "\tHamming Distance: 8\n",
      "<class 'numpy.ndarray'> <class 'numpy.ndarray'>\n"
     ]
    }
   ],
   "source": [
    "# input_seq = list(range(24))\n",
    "input_seq = puzzle.solution_state\n",
    "f_seq = f(input_seq, allowed_moves['f0'])\n",
    "print(f'{input_seq}\\n{f_seq}\\n\\n\\tHamming Distance: {hamming_distance(input_seq, f_seq)}')\n",
    "print(type(input_seq), type(f_seq))"
   ],
   "metadata": {
    "collapsed": false,
    "ExecuteTime": {
     "end_time": "2023-12-23T17:00:42.535625Z",
     "start_time": "2023-12-23T17:00:42.524652Z"
    }
   }
  },
  {
   "cell_type": "code",
   "execution_count": 38,
   "outputs": [
    {
     "name": "stdout",
     "output_type": "stream",
     "text": [
      "['A' 'A' 'E' 'E' 'B' 'B' 'B' 'B' 'A' 'C' 'A' 'C' 'D' 'D' 'D' 'D' 'E' 'F'\n",
      " 'E' 'F' 'C' 'C' 'F' 'F']\n",
      "['A' 'A' 'A' 'A' 'B' 'B' 'B' 'B' 'C' 'C' 'C' 'C' 'D' 'D' 'D' 'D' 'E' 'E'\n",
      " 'E' 'E' 'F' 'F' 'F' 'F']\n",
      "\n",
      "\tHamming Distance: 8\n"
     ]
    }
   ],
   "source": [
    "out_seq = f(f_seq, allowed_moves['-f0'])\n",
    "print(f'{f_seq}\\n{out_seq}\\n\\n\\tHamming Distance: {hamming_distance(f_seq, out_seq)}')"
   ],
   "metadata": {
    "collapsed": false,
    "ExecuteTime": {
     "end_time": "2023-12-23T17:00:45.169352Z",
     "start_time": "2023-12-23T17:00:45.164535Z"
    }
   }
  },
  {
   "cell_type": "markdown",
   "source": [
    "## Solving the puzzle "
   ],
   "metadata": {
    "collapsed": false
   }
  },
  {
   "cell_type": "code",
   "execution_count": 11,
   "outputs": [
    {
     "name": "stdout",
     "output_type": "stream",
     "text": [
      "[[['A' 'A']\n",
      "  ['E' 'E']]\n",
      "\n",
      " [['B' 'B']\n",
      "  ['B' 'B']]\n",
      "\n",
      " [['A' 'C']\n",
      "  ['A' 'C']]\n",
      "\n",
      " [['D' 'D']\n",
      "  ['D' 'D']]\n",
      "\n",
      " [['E' 'F']\n",
      "  ['E' 'F']]\n",
      "\n",
      " [['C' 'C']\n",
      "  ['F' 'F']]]\n"
     ]
    }
   ],
   "source": [
    "viz(f(input_seq, allowed_moves['f0']))"
   ],
   "metadata": {
    "collapsed": false,
    "ExecuteTime": {
     "end_time": "2023-12-22T20:32:13.810454Z",
     "start_time": "2023-12-22T20:32:13.802228Z"
    }
   }
  },
  {
   "cell_type": "code",
   "execution_count": null,
   "outputs": [],
   "source": [],
   "metadata": {
    "collapsed": false
   }
  }
 ],
 "metadata": {
  "kernelspec": {
   "display_name": "base",
   "language": "python",
   "name": "python3"
  },
  "language_info": {
   "codemirror_mode": {
    "name": "ipython",
    "version": 3
   },
   "file_extension": ".py",
   "mimetype": "text/x-python",
   "name": "python",
   "nbconvert_exporter": "python",
   "pygments_lexer": "ipython3",
   "version": "3.9.10"
  }
 },
 "nbformat": 4,
 "nbformat_minor": 2
}
